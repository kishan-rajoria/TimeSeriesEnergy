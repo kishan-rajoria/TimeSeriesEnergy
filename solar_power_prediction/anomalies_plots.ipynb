{
 "cells": [
  {
   "cell_type": "markdown",
   "metadata": {},
   "source": [
    "## plot the anomalies"
   ]
  },
  {
   "cell_type": "code",
   "execution_count": 33,
   "metadata": {},
   "outputs": [],
   "source": [
    "import plotly.graph_objs as go\n",
    "def detect_and_plot_anomalies(df, columns, anomaly_type):\n",
    "    for col in columns:\n",
    "        if col in df.columns:\n",
    "            col_data = df[col]\n",
    "            mean = col_data.mean()\n",
    "            std = col_data.std()\n",
    "            spike_threshold = 4 * std\n",
    "\n",
    "            if anomaly_type == 'spike':\n",
    "                anomaly_mask = np.abs(col_data - mean) > spike_threshold\n",
    "                anomaly_label = 'Spike'\n",
    "            elif anomaly_type == 'negative':\n",
    "                anomaly_mask = col_data < 0\n",
    "                anomaly_label = 'Negative Value'\n",
    "            elif anomaly_type == 'zeros':\n",
    "                anomaly_mask = col_data == 0\n",
    "                anomaly_label = 'Zero Value'\n",
    "            elif anomaly_type == 'nan_values':\n",
    "                anomaly_mask = col_data.isna()\n",
    "                anomaly_label = 'NaN Value'\n",
    "            else:\n",
    "                raise ValueError(f\"Unknown anomaly type: {anomaly_type}\")\n",
    "\n",
    "            normal_data = col_data[~anomaly_mask]\n",
    "            anomaly_points = col_data[anomaly_mask]\n",
    "\n",
    "            fig = go.Figure()\n",
    "            fig.add_trace(go.Scatter(x=normal_data.index, y=normal_data, mode='lines', name=f'{col} (Normal)'))\n",
    "            fig.add_trace(go.Scatter(x=anomaly_points.index, y=anomaly_points, mode='markers', name=f'{col} ({anomaly_label})', marker=dict(color='red', size=1)))\n",
    "            \n",
    "            fig.update_layout(title=f'Anomaly Detection in {col} ({anomaly_label})', xaxis_title='Index', yaxis_title=col)\n",
    "            fig.show()"
   ]
  },
  {
   "cell_type": "code",
   "execution_count": 1,
   "metadata": {},
   "outputs": [],
   "source": [
    "# detect_and_plot_anomalies(merged_data, ['ws01_ipoa01__wm2',\n",
    "#                                         'ws01_wind_speed_ms',\n",
    "#                                         'ws08_ipoa01__wm2',\n",
    "#                                         'ws08_wind_speed_ms'], 'spike')\n"
   ]
  },
  {
   "cell_type": "code",
   "execution_count": 2,
   "metadata": {},
   "outputs": [],
   "source": [
    "# detect_and_plot_anomalies(merged_data, [ 'ws02_ipoa01__wm2', \n",
    "#                                         'ws02_wind_speed_ms',\n",
    "#                                         'ws03_bom01_temp_c',\n",
    "#                                         'ws03_bom02_temp_c',\n",
    "#                                         'ws03_ipoa01__wm2',\n",
    "#                                         'ws03_wind_speed_ms'\n",
    "#                                             ], 'spike')"
   ]
  },
  {
   "cell_type": "code",
   "execution_count": 3,
   "metadata": {},
   "outputs": [],
   "source": [
    "# detect_and_plot_anomalies(merged_data, [ 'ws04_bom02_temp_c', \n",
    "#                                         'ws04_bom03_temp_c',\n",
    "#                                         'ws04_wind_speed_ms',\n",
    "#                                         'ws05_ipoa01__wm2',\n",
    "#                                         'ws05_wind_dir_deg',\n",
    "#                                         'ws05_wind_speed_ms'\n",
    "#                                             ], 'spike')"
   ]
  }
 ],
 "metadata": {
  "kernelspec": {
   "display_name": "base",
   "language": "python",
   "name": "python3"
  },
  "language_info": {
   "codemirror_mode": {
    "name": "ipython",
    "version": 3
   },
   "file_extension": ".py",
   "mimetype": "text/x-python",
   "name": "python",
   "nbconvert_exporter": "python",
   "pygments_lexer": "ipython3",
   "version": "3.11.7"
  }
 },
 "nbformat": 4,
 "nbformat_minor": 2
}
